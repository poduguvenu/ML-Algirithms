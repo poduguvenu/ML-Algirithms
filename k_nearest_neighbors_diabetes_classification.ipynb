{
  "nbformat": 4,
  "nbformat_minor": 0,
  "metadata": {
    "kernelspec": {
      "display_name": "Python 3",
      "language": "python",
      "name": "python3"
    },
    "language_info": {
      "codemirror_mode": {
        "name": "ipython",
        "version": 3
      },
      "file_extension": ".py",
      "mimetype": "text/x-python",
      "name": "python",
      "nbconvert_exporter": "python",
      "pygments_lexer": "ipython3",
      "version": "3.7.6"
    },
    "colab": {
      "name": "k-nearest-neighbors-diabetes-classification.ipynb",
      "provenance": []
    }
  },
  "cells": [
    {
      "cell_type": "markdown",
      "metadata": {
        "id": "c6cWnwnfWujB"
      },
      "source": [
        "# K-NN Algorithm For Classifying Diabetes Patients\n",
        "Objective: Predict whether a person will be diagnosed with diabetes of not"
      ]
    },
    {
      "cell_type": "markdown",
      "metadata": {
        "id": "60Ji7J_YXYol"
      },
      "source": [
        "> ## Import Required Modules"
      ]
    },
    {
      "cell_type": "code",
      "metadata": {
        "id": "Fg5ulaKOXil7"
      },
      "source": [
        "import numpy as np\n",
        "import pandas as pd\n",
        "import matplotlib.pyplot as plt\n",
        "%matplotlib inline\n",
        "from sklearn.model_selection import train_test_split\n",
        "from sklearn.neighbors import KNeighborsClassifier\n",
        "from sklearn.preprocessing import StandardScaler\n",
        "from sklearn.metrics import confusion_matrix, plot_confusion_matrix, f1_score, accuracy_score\n",
        "import math"
      ],
      "execution_count": 30,
      "outputs": []
    },
    {
      "cell_type": "markdown",
      "metadata": {
        "id": "b6X1pd5BXhii"
      },
      "source": [
        "> ## Import the Dataset\n",
        "The `iabetes dataset` has been downloaded from `Kaggle` datasets.\n",
        "\n",
        "> Dataset Url: https://www.kaggle.com/mathchi/diabetes-data-set"
      ]
    },
    {
      "cell_type": "code",
      "metadata": {
        "colab": {
          "base_uri": "https://localhost:8080/",
          "height": 191
        },
        "id": "cMSaqHxWXHWF",
        "outputId": "6d73bae2-a6da-45a0-9c34-511380e75197"
      },
      "source": [
        "df = pd.read_csv('./diabetes.csv')\n",
        "df.head()"
      ],
      "execution_count": 31,
      "outputs": [
        {
          "output_type": "execute_result",
          "data": {
            "text/html": [
              "<div>\n",
              "<style scoped>\n",
              "    .dataframe tbody tr th:only-of-type {\n",
              "        vertical-align: middle;\n",
              "    }\n",
              "\n",
              "    .dataframe tbody tr th {\n",
              "        vertical-align: top;\n",
              "    }\n",
              "\n",
              "    .dataframe thead th {\n",
              "        text-align: right;\n",
              "    }\n",
              "</style>\n",
              "<table border=\"1\" class=\"dataframe\">\n",
              "  <thead>\n",
              "    <tr style=\"text-align: right;\">\n",
              "      <th></th>\n",
              "      <th>Pregnancies</th>\n",
              "      <th>Glucose</th>\n",
              "      <th>BloodPressure</th>\n",
              "      <th>SkinThickness</th>\n",
              "      <th>Insulin</th>\n",
              "      <th>BMI</th>\n",
              "      <th>DiabetesPedigreeFunction</th>\n",
              "      <th>Age</th>\n",
              "      <th>Outcome</th>\n",
              "    </tr>\n",
              "  </thead>\n",
              "  <tbody>\n",
              "    <tr>\n",
              "      <th>0</th>\n",
              "      <td>6</td>\n",
              "      <td>148</td>\n",
              "      <td>72</td>\n",
              "      <td>35</td>\n",
              "      <td>0</td>\n",
              "      <td>33.6</td>\n",
              "      <td>0.627</td>\n",
              "      <td>50</td>\n",
              "      <td>1</td>\n",
              "    </tr>\n",
              "    <tr>\n",
              "      <th>1</th>\n",
              "      <td>1</td>\n",
              "      <td>85</td>\n",
              "      <td>66</td>\n",
              "      <td>29</td>\n",
              "      <td>0</td>\n",
              "      <td>26.6</td>\n",
              "      <td>0.351</td>\n",
              "      <td>31</td>\n",
              "      <td>0</td>\n",
              "    </tr>\n",
              "    <tr>\n",
              "      <th>2</th>\n",
              "      <td>8</td>\n",
              "      <td>183</td>\n",
              "      <td>64</td>\n",
              "      <td>0</td>\n",
              "      <td>0</td>\n",
              "      <td>23.3</td>\n",
              "      <td>0.672</td>\n",
              "      <td>32</td>\n",
              "      <td>1</td>\n",
              "    </tr>\n",
              "    <tr>\n",
              "      <th>3</th>\n",
              "      <td>1</td>\n",
              "      <td>89</td>\n",
              "      <td>66</td>\n",
              "      <td>23</td>\n",
              "      <td>94</td>\n",
              "      <td>28.1</td>\n",
              "      <td>0.167</td>\n",
              "      <td>21</td>\n",
              "      <td>0</td>\n",
              "    </tr>\n",
              "    <tr>\n",
              "      <th>4</th>\n",
              "      <td>0</td>\n",
              "      <td>137</td>\n",
              "      <td>40</td>\n",
              "      <td>35</td>\n",
              "      <td>168</td>\n",
              "      <td>43.1</td>\n",
              "      <td>2.288</td>\n",
              "      <td>33</td>\n",
              "      <td>1</td>\n",
              "    </tr>\n",
              "  </tbody>\n",
              "</table>\n",
              "</div>"
            ],
            "text/plain": [
              "   Pregnancies  Glucose  BloodPressure  ...  DiabetesPedigreeFunction  Age  Outcome\n",
              "0            6      148             72  ...                     0.627   50        1\n",
              "1            1       85             66  ...                     0.351   31        0\n",
              "2            8      183             64  ...                     0.672   32        1\n",
              "3            1       89             66  ...                     0.167   21        0\n",
              "4            0      137             40  ...                     2.288   33        1\n",
              "\n",
              "[5 rows x 9 columns]"
            ]
          },
          "metadata": {
            "tags": []
          },
          "execution_count": 31
        }
      ]
    },
    {
      "cell_type": "markdown",
      "metadata": {
        "id": "KnycUU0_axb2"
      },
      "source": [
        "> ## Let's do some Exploratory Data Analysis"
      ]
    },
    {
      "cell_type": "code",
      "metadata": {
        "colab": {
          "base_uri": "https://localhost:8080/"
        },
        "id": "N5Ya0-mNauQ9",
        "outputId": "df4dcae5-6275-4492-c140-3b387dde54fb"
      },
      "source": [
        "df.info()"
      ],
      "execution_count": 32,
      "outputs": [
        {
          "output_type": "stream",
          "text": [
            "<class 'pandas.core.frame.DataFrame'>\n",
            "RangeIndex: 768 entries, 0 to 767\n",
            "Data columns (total 9 columns):\n",
            " #   Column                    Non-Null Count  Dtype  \n",
            "---  ------                    --------------  -----  \n",
            " 0   Pregnancies               768 non-null    int64  \n",
            " 1   Glucose                   768 non-null    int64  \n",
            " 2   BloodPressure             768 non-null    int64  \n",
            " 3   SkinThickness             768 non-null    int64  \n",
            " 4   Insulin                   768 non-null    int64  \n",
            " 5   BMI                       768 non-null    float64\n",
            " 6   DiabetesPedigreeFunction  768 non-null    float64\n",
            " 7   Age                       768 non-null    int64  \n",
            " 8   Outcome                   768 non-null    int64  \n",
            "dtypes: float64(2), int64(7)\n",
            "memory usage: 54.1 KB\n"
          ],
          "name": "stdout"
        }
      ]
    },
    {
      "cell_type": "code",
      "metadata": {
        "colab": {
          "base_uri": "https://localhost:8080/"
        },
        "id": "pp2_cmXpa3x2",
        "outputId": "ec6116ab-2a07-4b20-e372-eb91cc72979b"
      },
      "source": [
        "df.Pregnancies.unique()"
      ],
      "execution_count": 7,
      "outputs": [
        {
          "output_type": "execute_result",
          "data": {
            "text/plain": [
              "array([ 6,  1,  8,  0,  5,  3, 10,  2,  4,  7,  9, 11, 13, 15, 17, 12, 14])"
            ]
          },
          "metadata": {
            "tags": []
          },
          "execution_count": 7
        }
      ]
    },
    {
      "cell_type": "code",
      "metadata": {
        "colab": {
          "base_uri": "https://localhost:8080/"
        },
        "id": "fQBET23va9q7",
        "outputId": "318ff3cd-239e-4cc4-c577-6e42cef25f93"
      },
      "source": [
        "df.Glucose.unique()"
      ],
      "execution_count": 8,
      "outputs": [
        {
          "output_type": "execute_result",
          "data": {
            "text/plain": [
              "array([148,  85, 183,  89, 137, 116,  78, 115, 197, 125, 110, 168, 139,\n",
              "       189, 166, 100, 118, 107, 103, 126,  99, 196, 119, 143, 147,  97,\n",
              "       145, 117, 109, 158,  88,  92, 122, 138, 102,  90, 111, 180, 133,\n",
              "       106, 171, 159, 146,  71, 105, 101, 176, 150,  73, 187,  84,  44,\n",
              "       141, 114,  95, 129,  79,   0,  62, 131, 112, 113,  74,  83, 136,\n",
              "        80, 123,  81, 134, 142, 144,  93, 163, 151,  96, 155,  76, 160,\n",
              "       124, 162, 132, 120, 173, 170, 128, 108, 154,  57, 156, 153, 188,\n",
              "       152, 104,  87,  75, 179, 130, 194, 181, 135, 184, 140, 177, 164,\n",
              "        91, 165,  86, 193, 191, 161, 167,  77, 182, 157, 178,  61,  98,\n",
              "       127,  82,  72, 172,  94, 175, 195,  68, 186, 198, 121,  67, 174,\n",
              "       199,  56, 169, 149,  65, 190])"
            ]
          },
          "metadata": {
            "tags": []
          },
          "execution_count": 8
        }
      ]
    },
    {
      "cell_type": "markdown",
      "metadata": {
        "id": "wg1qptcPbEFl"
      },
      "source": [
        "> There are some samples with `Glucose` level `0` which might be a missing value."
      ]
    },
    {
      "cell_type": "code",
      "metadata": {
        "colab": {
          "base_uri": "https://localhost:8080/"
        },
        "id": "owS5P18uXHTq",
        "outputId": "a1ab7f05-215f-4c4e-d202-7fbec93d11ec"
      },
      "source": [
        "df.BloodPressure.unique()"
      ],
      "execution_count": 17,
      "outputs": [
        {
          "output_type": "execute_result",
          "data": {
            "text/plain": [
              "array([ 72.,  66.,  64.,  40.,  74.,  50.,  70.,  96.,  92.,  80.,  60.,\n",
              "        84.,  30.,  88.,  90.,  94.,  76.,  82.,  75.,  58.,  78.,  68.,\n",
              "       110.,  56.,  62.,  85.,  86.,  48.,  44.,  65., 108.,  55., 122.,\n",
              "        54.,  52.,  98., 104.,  95.,  46., 102., 100.,  61.,  24.,  38.,\n",
              "       106., 114.])"
            ]
          },
          "metadata": {
            "tags": []
          },
          "execution_count": 17
        }
      ]
    },
    {
      "cell_type": "markdown",
      "metadata": {
        "id": "tAu3_nNnbZF2"
      },
      "source": [
        "> Also `BloodPressure` has some `0` values"
      ]
    },
    {
      "cell_type": "code",
      "metadata": {
        "colab": {
          "base_uri": "https://localhost:8080/"
        },
        "id": "hmlxW_m4XHRN",
        "outputId": "17f7af22-ce51-4da5-ef35-855a182fc9f3"
      },
      "source": [
        "df.SkinThickness.unique()"
      ],
      "execution_count": 10,
      "outputs": [
        {
          "output_type": "execute_result",
          "data": {
            "text/plain": [
              "array([35, 29,  0, 23, 32, 45, 19, 47, 38, 30, 41, 33, 26, 15, 36, 11, 31,\n",
              "       37, 42, 25, 18, 24, 39, 27, 21, 34, 10, 60, 13, 20, 22, 28, 54, 40,\n",
              "       51, 56, 14, 17, 50, 44, 12, 46, 16,  7, 52, 43, 48,  8, 49, 63, 99])"
            ]
          },
          "metadata": {
            "tags": []
          },
          "execution_count": 10
        }
      ]
    },
    {
      "cell_type": "markdown",
      "metadata": {
        "id": "uFkXVzL1bmhN"
      },
      "source": [
        "> Also `SkinThickness` has some `0` values"
      ]
    },
    {
      "cell_type": "code",
      "metadata": {
        "colab": {
          "base_uri": "https://localhost:8080/"
        },
        "id": "fhggCiaNbkwt",
        "outputId": "3ab4e9a3-a8c3-4d83-baa6-b58dac96428a"
      },
      "source": [
        "df.Insulin.unique()"
      ],
      "execution_count": 11,
      "outputs": [
        {
          "output_type": "execute_result",
          "data": {
            "text/plain": [
              "array([  0,  94, 168,  88, 543, 846, 175, 230,  83,  96, 235, 146, 115,\n",
              "       140, 110, 245,  54, 192, 207,  70, 240,  82,  36,  23, 300, 342,\n",
              "       304, 142, 128,  38, 100,  90, 270,  71, 125, 176,  48,  64, 228,\n",
              "        76, 220,  40, 152,  18, 135, 495,  37,  51,  99, 145, 225,  49,\n",
              "        50,  92, 325,  63, 284, 119, 204, 155, 485,  53, 114, 105, 285,\n",
              "       156,  78, 130,  55,  58, 160, 210, 318,  44, 190, 280,  87, 271,\n",
              "       129, 120, 478,  56,  32, 744, 370,  45, 194, 680, 402, 258, 375,\n",
              "       150,  67,  57, 116, 278, 122, 545,  75,  74, 182, 360, 215, 184,\n",
              "        42, 132, 148, 180, 205,  85, 231,  29,  68,  52, 255, 171,  73,\n",
              "       108,  43, 167, 249, 293,  66, 465,  89, 158,  84,  72,  59,  81,\n",
              "       196, 415, 275, 165, 579, 310,  61, 474, 170, 277,  60,  14,  95,\n",
              "       237, 191, 328, 250, 480, 265, 193,  79,  86, 326, 188, 106,  65,\n",
              "       166, 274,  77, 126, 330, 600, 185,  25,  41, 272, 321, 144,  15,\n",
              "       183,  91,  46, 440, 159, 540, 200, 335, 387,  22, 291, 392, 178,\n",
              "       127, 510,  16, 112])"
            ]
          },
          "metadata": {
            "tags": []
          },
          "execution_count": 11
        }
      ]
    },
    {
      "cell_type": "code",
      "metadata": {
        "colab": {
          "base_uri": "https://localhost:8080/"
        },
        "id": "WdNp_vLdbzm5",
        "outputId": "7880b564-e008-47d2-bcbb-e6998dff12f4"
      },
      "source": [
        "df.BMI.unique()"
      ],
      "execution_count": 12,
      "outputs": [
        {
          "output_type": "execute_result",
          "data": {
            "text/plain": [
              "array([33.6, 26.6, 23.3, 28.1, 43.1, 25.6, 31. , 35.3, 30.5,  0. , 37.6,\n",
              "       38. , 27.1, 30.1, 25.8, 30. , 45.8, 29.6, 43.3, 34.6, 39.3, 35.4,\n",
              "       39.8, 29. , 36.6, 31.1, 39.4, 23.2, 22.2, 34.1, 36. , 31.6, 24.8,\n",
              "       19.9, 27.6, 24. , 33.2, 32.9, 38.2, 37.1, 34. , 40.2, 22.7, 45.4,\n",
              "       27.4, 42. , 29.7, 28. , 39.1, 19.4, 24.2, 24.4, 33.7, 34.7, 23. ,\n",
              "       37.7, 46.8, 40.5, 41.5, 25. , 25.4, 32.8, 32.5, 42.7, 19.6, 28.9,\n",
              "       28.6, 43.4, 35.1, 32. , 24.7, 32.6, 43.2, 22.4, 29.3, 24.6, 48.8,\n",
              "       32.4, 38.5, 26.5, 19.1, 46.7, 23.8, 33.9, 20.4, 28.7, 49.7, 39. ,\n",
              "       26.1, 22.5, 39.6, 29.5, 34.3, 37.4, 33.3, 31.2, 28.2, 53.2, 34.2,\n",
              "       26.8, 55. , 42.9, 34.5, 27.9, 38.3, 21.1, 33.8, 30.8, 36.9, 39.5,\n",
              "       27.3, 21.9, 40.6, 47.9, 50. , 25.2, 40.9, 37.2, 44.2, 29.9, 31.9,\n",
              "       28.4, 43.5, 32.7, 67.1, 45. , 34.9, 27.7, 35.9, 22.6, 33.1, 30.4,\n",
              "       52.3, 24.3, 22.9, 34.8, 30.9, 40.1, 23.9, 37.5, 35.5, 42.8, 42.6,\n",
              "       41.8, 35.8, 37.8, 28.8, 23.6, 35.7, 36.7, 45.2, 44. , 46.2, 35. ,\n",
              "       43.6, 44.1, 18.4, 29.2, 25.9, 32.1, 36.3, 40. , 25.1, 27.5, 45.6,\n",
              "       27.8, 24.9, 25.3, 37.9, 27. , 26. , 38.7, 20.8, 36.1, 30.7, 32.3,\n",
              "       52.9, 21. , 39.7, 25.5, 26.2, 19.3, 38.1, 23.5, 45.5, 23.1, 39.9,\n",
              "       36.8, 21.8, 41. , 42.2, 34.4, 27.2, 36.5, 29.8, 39.2, 38.4, 36.2,\n",
              "       48.3, 20. , 22.3, 45.7, 23.7, 22.1, 42.1, 42.4, 18.2, 26.4, 45.3,\n",
              "       37. , 24.5, 32.2, 59.4, 21.2, 26.7, 30.2, 46.1, 41.3, 38.8, 35.2,\n",
              "       42.3, 40.7, 46.5, 33.5, 37.3, 30.3, 26.3, 21.7, 36.4, 28.5, 26.9,\n",
              "       38.6, 31.3, 19.5, 20.1, 40.8, 23.4, 28.3, 38.9, 57.3, 35.6, 49.6,\n",
              "       44.6, 24.1, 44.5, 41.2, 49.3, 46.3])"
            ]
          },
          "metadata": {
            "tags": []
          },
          "execution_count": 12
        }
      ]
    },
    {
      "cell_type": "code",
      "metadata": {
        "colab": {
          "base_uri": "https://localhost:8080/"
        },
        "id": "0NPZuKGnb4HZ",
        "outputId": "7c97b2c3-c83a-46c9-ea42-f12835b59f45"
      },
      "source": [
        "df.Age.unique()"
      ],
      "execution_count": 13,
      "outputs": [
        {
          "output_type": "execute_result",
          "data": {
            "text/plain": [
              "array([50, 31, 32, 21, 33, 30, 26, 29, 53, 54, 34, 57, 59, 51, 27, 41, 43,\n",
              "       22, 38, 60, 28, 45, 35, 46, 56, 37, 48, 40, 25, 24, 58, 42, 44, 39,\n",
              "       36, 23, 61, 69, 62, 55, 65, 47, 52, 66, 49, 63, 67, 72, 81, 64, 70,\n",
              "       68])"
            ]
          },
          "metadata": {
            "tags": []
          },
          "execution_count": 13
        }
      ]
    },
    {
      "cell_type": "markdown",
      "metadata": {
        "id": "UNBvLyQU2FkM"
      },
      "source": [
        "> ## Replace zeroes"
      ]
    },
    {
      "cell_type": "code",
      "metadata": {
        "id": "AeSDSi4ub_Bd"
      },
      "source": [
        "zero_not_accepted = ['Glucose', 'BloodPressure', 'SkinThickness', 'BMI', 'Insulin']\n",
        "\n",
        "for column in zero_not_accepted:\n",
        "    df[column] = df[column].replace(0, np.NaN)\n",
        "    mean = int(df[column].mean(skipna=True))\n",
        "    df[column] = df[column].replace(np.NaN, mean)"
      ],
      "execution_count": 33,
      "outputs": []
    },
    {
      "cell_type": "code",
      "metadata": {
        "colab": {
          "base_uri": "https://localhost:8080/"
        },
        "id": "6sbiQlyj3DQu",
        "outputId": "cc430b24-a638-40d7-e7a7-64d732a6ce41"
      },
      "source": [
        "df['Glucose'].unique()"
      ],
      "execution_count": 18,
      "outputs": [
        {
          "output_type": "execute_result",
          "data": {
            "text/plain": [
              "array([148.,  85., 183.,  89., 137., 116.,  78., 115., 197., 125., 110.,\n",
              "       168., 139., 189., 166., 100., 118., 107., 103., 126.,  99., 196.,\n",
              "       119., 143., 147.,  97., 145., 117., 109., 158.,  88.,  92., 122.,\n",
              "       138., 102.,  90., 111., 180., 133., 106., 171., 159., 146.,  71.,\n",
              "       105., 101., 176., 150.,  73., 187.,  84.,  44., 141., 114.,  95.,\n",
              "       129.,  79., 121.,  62., 131., 112., 113.,  74.,  83., 136.,  80.,\n",
              "       123.,  81., 134., 142., 144.,  93., 163., 151.,  96., 155.,  76.,\n",
              "       160., 124., 162., 132., 120., 173., 170., 128., 108., 154.,  57.,\n",
              "       156., 153., 188., 152., 104.,  87.,  75., 179., 130., 194., 181.,\n",
              "       135., 184., 140., 177., 164.,  91., 165.,  86., 193., 191., 161.,\n",
              "       167.,  77., 182., 157., 178.,  61.,  98., 127.,  82.,  72., 172.,\n",
              "        94., 175., 195.,  68., 186., 198.,  67., 174., 199.,  56., 169.,\n",
              "       149.,  65., 190.])"
            ]
          },
          "metadata": {
            "tags": []
          },
          "execution_count": 18
        }
      ]
    },
    {
      "cell_type": "markdown",
      "metadata": {
        "id": "ts-O3M6C3_WN"
      },
      "source": [
        "> ## Before proceeding further, let's split the dataset into train and test"
      ]
    },
    {
      "cell_type": "code",
      "metadata": {
        "id": "MvQSBKjZ4Kjp"
      },
      "source": [
        "X = df.drop('Outcome', axis=1)\n",
        "y = df['Outcome']\n",
        "X_train, X_test, y_train, y_test = train_test_split(X, y, test_size=0.2, random_state=0)"
      ],
      "execution_count": 34,
      "outputs": []
    },
    {
      "cell_type": "markdown",
      "metadata": {
        "id": "DevOgZr640Ce"
      },
      "source": [
        "> ## Feature Scaling"
      ]
    },
    {
      "cell_type": "code",
      "metadata": {
        "id": "KWNMcsCG4nvq"
      },
      "source": [
        "sc = StandardScaler()\n",
        "X_train = sc.fit_transform(X_train)\n",
        "X_test = sc.transform(X_test)"
      ],
      "execution_count": 35,
      "outputs": []
    },
    {
      "cell_type": "markdown",
      "metadata": {
        "id": "A3UlqeRo5krr"
      },
      "source": [
        "> ## KNN Classifier\n",
        "Now define the model using `KNeighborsClassifier` and fit the train data in the model"
      ]
    },
    {
      "cell_type": "code",
      "metadata": {
        "colab": {
          "base_uri": "https://localhost:8080/"
        },
        "id": "qlicBigS6XEW",
        "outputId": "c9dc6dea-4648-4627-dbff-a92995d78888"
      },
      "source": [
        "import math\n",
        "math.sqrt(len(y_test))"
      ],
      "execution_count": 36,
      "outputs": [
        {
          "output_type": "execute_result",
          "data": {
            "text/plain": [
              "12.409673645990857"
            ]
          },
          "metadata": {
            "tags": []
          },
          "execution_count": 36
        }
      ]
    },
    {
      "cell_type": "code",
      "metadata": {
        "colab": {
          "base_uri": "https://localhost:8080/"
        },
        "id": "djDUOGyo55BE",
        "outputId": "fafda77f-1c41-45f2-86c1-907e58692378"
      },
      "source": [
        "clf = KNeighborsClassifier(n_neighbors=11, p=2, metric='euclidean')\n",
        "clf.fit(X_train, y_train)"
      ],
      "execution_count": 37,
      "outputs": [
        {
          "output_type": "execute_result",
          "data": {
            "text/plain": [
              "KNeighborsClassifier(algorithm='auto', leaf_size=30, metric='euclidean',\n",
              "                     metric_params=None, n_jobs=None, n_neighbors=11, p=2,\n",
              "                     weights='uniform')"
            ]
          },
          "metadata": {
            "tags": []
          },
          "execution_count": 37
        }
      ]
    },
    {
      "cell_type": "markdown",
      "metadata": {
        "id": "S-FXAjGl6s45"
      },
      "source": [
        "> ## Evaluate the Model"
      ]
    },
    {
      "cell_type": "code",
      "metadata": {
        "id": "mmc0tO9i68Cn"
      },
      "source": [
        "y_pred = clf.predict(X_test)"
      ],
      "execution_count": 38,
      "outputs": []
    },
    {
      "cell_type": "code",
      "metadata": {
        "colab": {
          "base_uri": "https://localhost:8080/",
          "height": 360
        },
        "id": "RuuqT9rI7qgK",
        "outputId": "c2239802-d0ca-46d2-e05c-58f65e580366"
      },
      "source": [
        "cm = confusion_matrix(y_test, y_pred)\n",
        "print('Confusion matirx: \\n', cm)\n",
        "score = f1_score(y_test, y_pred)\n",
        "print('f1 Score: ', score)\n",
        "plot_confusion_matrix(clf, X_test, y_test, display_labels=['Non Diabetic', 'Diabetic'], cmap='Blues_r')"
      ],
      "execution_count": 39,
      "outputs": [
        {
          "output_type": "stream",
          "text": [
            "Confusion matirx: \n",
            " [[94 13]\n",
            " [15 32]]\n",
            "f1 Score:  0.6956521739130436\n"
          ],
          "name": "stdout"
        },
        {
          "output_type": "execute_result",
          "data": {
            "text/plain": [
              "<sklearn.metrics._plot.confusion_matrix.ConfusionMatrixDisplay at 0x7f0dc6376a90>"
            ]
          },
          "metadata": {
            "tags": []
          },
          "execution_count": 39
        },
        {
          "output_type": "display_data",
          "data": {
            "image/png": "[encoded data removed]",
            "text/plain": [
              "<Figure size 432x288 with 2 Axes>"
            ]
          },
          "metadata": {
            "tags": [],
            "needs_background": "light"
          }
        }
      ]
    },
    {
      "cell_type": "code",
      "metadata": {
        "colab": {
          "base_uri": "https://localhost:8080/"
        },
        "id": "RHLhd6Yq6NE0",
        "outputId": "343ab838-3f86-4786-d58d-76fb6a34115b"
      },
      "source": [
        "acc_score = accuracy_score(y_test, y_pred)\n",
        "print('Accuracy Score: ', acc_score)"
      ],
      "execution_count": 40,
      "outputs": [
        {
          "output_type": "stream",
          "text": [
            "Accuracy Score:  0.8181818181818182\n"
          ],
          "name": "stdout"
        }
      ]
    },
    {
      "cell_type": "code",
      "metadata": {
        "id": "oXoWjddSWs7k"
      },
      "source": [
        ""
      ],
      "execution_count": null,
      "outputs": []
    }
  ]
}