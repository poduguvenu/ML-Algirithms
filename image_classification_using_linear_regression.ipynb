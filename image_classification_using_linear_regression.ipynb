{
  "nbformat": 4,
  "nbformat_minor": 0,
  "metadata": {
    "kernelspec": {
      "display_name": "Python 3",
      "language": "python",
      "name": "python3"
    },
    "language_info": {
      "codemirror_mode": {
        "name": "ipython",
        "version": 3
      },
      "file_extension": ".py",
      "mimetype": "text/x-python",
      "name": "python",
      "nbconvert_exporter": "python",
      "pygments_lexer": "ipython3",
      "version": "3.7.6"
    },
    "colab": {
      "name": "image-classification-using-linear-regression.ipynb",
      "provenance": []
    }
  },
  "cells": [
    {
      "cell_type": "markdown",
      "metadata": {
        "id": "226C_t_LMa_4"
      },
      "source": [
        "# Classification of Images using Logistic Regression"
      ]
    },
    {
      "cell_type": "markdown",
      "metadata": {
        "id": "LPlN4fJlMp3N"
      },
      "source": [
        "> ## Importing Required Libraries"
      ]
    },
    {
      "cell_type": "code",
      "metadata": {
        "id": "iHNpqkUTMtfk"
      },
      "source": [
        "from sklearn.datasets import load_digits\n",
        "from sklearn.model_selection import train_test_split\n",
        "import numpy as np\n",
        "import pandas as pd\n",
        "import matplotlib.pyplot as plt\n",
        "%matplotlib inline\n",
        "from sklearn.linear_model import LogisticRegression\n",
        "import seaborn as sns\n",
        "from sklearn.metrics import confusion_matrix"
      ],
      "execution_count": 3,
      "outputs": []
    },
    {
      "cell_type": "markdown",
      "metadata": {
        "id": "8hlPrKcENNNk"
      },
      "source": [
        "> ## Loading the Dataset"
      ]
    },
    {
      "cell_type": "code",
      "metadata": {
        "id": "F2GiVJniNR0R"
      },
      "source": [
        "digits = load_digits()"
      ],
      "execution_count": 4,
      "outputs": []
    },
    {
      "cell_type": "markdown",
      "metadata": {
        "id": "vtx20YyzNaVD"
      },
      "source": [
        "> ## Determining the total number of images and labels"
      ]
    },
    {
      "cell_type": "code",
      "metadata": {
        "colab": {
          "base_uri": "https://localhost:8080/"
        },
        "id": "--zVijTdNg0X",
        "outputId": "868d682c-df03-41be-a77b-d33e3a91e346"
      },
      "source": [
        "print('Image Data Shape: ', digits.data.shape)\n",
        "print('Label Data Shape: ', digits.target.shape)"
      ],
      "execution_count": 6,
      "outputs": [
        {
          "output_type": "stream",
          "text": [
            "Image Data Shape:  (1797, 64)\n",
            "Label Data Shape:  (1797,)\n"
          ],
          "name": "stdout"
        }
      ]
    },
    {
      "cell_type": "markdown",
      "metadata": {
        "id": "jZgNuNH8QQ-3"
      },
      "source": [
        "> ## Displaying some of the images and labels"
      ]
    },
    {
      "cell_type": "code",
      "metadata": {
        "colab": {
          "base_uri": "https://localhost:8080/",
          "height": 282
        },
        "id": "af4C69X-N6T6",
        "outputId": "063084b5-2bcc-4920-bc27-b76bd7afd278"
      },
      "source": [
        "plt.figure(figsize=(20, 4))\n",
        "for index, (image, label) in enumerate(zip(digits.data[0: 5], digits.target[0: 5])):\n",
        "    plt.subplot(1, 5, index + 1)\n",
        "    plt.imshow(np.reshape(image, (8, 8)), cmap=plt.cm.gray)\n",
        "    plt.title('Training: %i\\n' % label, fontsize=20)"
      ],
      "execution_count": 7,
      "outputs": [
        {
          "output_type": "display_data",
          "data": {
            "image/png": "[encoded data removed]",
            "text/plain": [
              "<Figure size 1440x288 with 5 Axes>"
            ]
          },
          "metadata": {
            "tags": [],
            "needs_background": "light"
          }
        }
      ]
    },
    {
      "cell_type": "markdown",
      "metadata": {
        "id": "a_b_WKIDRqPA"
      },
      "source": [
        "> ## Dividing the dataset into Training and Test sets"
      ]
    },
    {
      "cell_type": "code",
      "metadata": {
        "id": "UVemHx5RRyME"
      },
      "source": [
        "X_train, X_test, y_train, y_test = train_test_split(digits.data, digits.target, test_size=0.23, random_state=2)"
      ],
      "execution_count": 8,
      "outputs": []
    },
    {
      "cell_type": "code",
      "metadata": {
        "colab": {
          "base_uri": "https://localhost:8080/"
        },
        "id": "Sckw6nTqR-2r",
        "outputId": "44d46454-b4b7-4d94-b24e-993708577cdd"
      },
      "source": [
        "X_train.shape, X_test.shape"
      ],
      "execution_count": 9,
      "outputs": [
        {
          "output_type": "execute_result",
          "data": {
            "text/plain": [
              "((1383, 64), (414, 64))"
            ]
          },
          "metadata": {
            "tags": []
          },
          "execution_count": 9
        }
      ]
    },
    {
      "cell_type": "code",
      "metadata": {
        "colab": {
          "base_uri": "https://localhost:8080/"
        },
        "id": "EnfLYJ3oSFi4",
        "outputId": "bb8a9a3a-e633-4bfc-d854-c3bdd49f3641"
      },
      "source": [
        "y_train.shape, y_test.shape"
      ],
      "execution_count": 10,
      "outputs": [
        {
          "output_type": "execute_result",
          "data": {
            "text/plain": [
              "((1383,), (414,))"
            ]
          },
          "metadata": {
            "tags": []
          },
          "execution_count": 10
        }
      ]
    },
    {
      "cell_type": "markdown",
      "metadata": {
        "id": "qo12all_SSBR"
      },
      "source": [
        "> ## Import Logistic Regression Model"
      ]
    },
    {
      "cell_type": "code",
      "metadata": {
        "id": "UvTc4Sw2SZKf"
      },
      "source": [
        "from sklearn.linear_model import LogisticRegression"
      ],
      "execution_count": 11,
      "outputs": []
    },
    {
      "cell_type": "markdown",
      "metadata": {
        "id": "EHlfron6SgxR"
      },
      "source": [
        "> ## Making an instance of the model and training it"
      ]
    },
    {
      "cell_type": "code",
      "metadata": {
        "colab": {
          "base_uri": "https://localhost:8080/"
        },
        "id": "si8UezBsSIX4",
        "outputId": "f6c0ff73-8dde-41f8-b809-af943370e847"
      },
      "source": [
        "log_reg = LogisticRegression()\n",
        "log_reg.fit(X_train, y_train)"
      ],
      "execution_count": 13,
      "outputs": [
        {
          "output_type": "stream",
          "text": [
            "/usr/local/lib/python3.7/dist-packages/sklearn/linear_model/_logistic.py:940: ConvergenceWarning: lbfgs failed to converge (status=1):\n",
            "STOP: TOTAL NO. of ITERATIONS REACHED LIMIT.\n",
            "\n",
            "Increase the number of iterations (max_iter) or scale the data as shown in:\n",
            "    https://scikit-learn.org/stable/modules/preprocessing.html\n",
            "Please also refer to the documentation for alternative solver options:\n",
            "    https://scikit-learn.org/stable/modules/linear_model.html#logistic-regression\n",
            "  extra_warning_msg=_LOGISTIC_SOLVER_CONVERGENCE_MSG)\n"
          ],
          "name": "stderr"
        },
        {
          "output_type": "execute_result",
          "data": {
            "text/plain": [
              "LogisticRegression(C=1.0, class_weight=None, dual=False, fit_intercept=True,\n",
              "                   intercept_scaling=1, l1_ratio=None, max_iter=100,\n",
              "                   multi_class='auto', n_jobs=None, penalty='l2',\n",
              "                   random_state=None, solver='lbfgs', tol=0.0001, verbose=0,\n",
              "                   warm_start=False)"
            ]
          },
          "metadata": {
            "tags": []
          },
          "execution_count": 13
        }
      ]
    },
    {
      "cell_type": "markdown",
      "metadata": {
        "id": "ZrNPpY7CS9uu"
      },
      "source": [
        "> ## Predicting the output of the first element of the test set"
      ]
    },
    {
      "cell_type": "code",
      "metadata": {
        "colab": {
          "base_uri": "https://localhost:8080/"
        },
        "id": "adoEGkIxSwVP",
        "outputId": "2c7a3bdd-fbf1-437a-d21a-25d097b2e079"
      },
      "source": [
        "print(log_reg.predict(X_test[0].reshape(1, -1)))"
      ],
      "execution_count": 19,
      "outputs": [
        {
          "output_type": "stream",
          "text": [
            "[4]\n"
          ],
          "name": "stdout"
        }
      ]
    },
    {
      "cell_type": "markdown",
      "metadata": {
        "id": "a7KDy116TW9h"
      },
      "source": [
        "> ## Predicting the output of the first 10 elements of the test set"
      ]
    },
    {
      "cell_type": "code",
      "metadata": {
        "colab": {
          "base_uri": "https://localhost:8080/"
        },
        "id": "rEcXtCK-TdBb",
        "outputId": "f2c95104-8eaa-43e3-e327-e1c8c08d1e7d"
      },
      "source": [
        "print(log_reg.predict(X_test[ : 10]))"
      ],
      "execution_count": 15,
      "outputs": [
        {
          "output_type": "stream",
          "text": [
            "[4 0 9 1 8 7 1 5 1 6]\n"
          ],
          "name": "stdout"
        }
      ]
    },
    {
      "cell_type": "markdown",
      "metadata": {
        "id": "LYuT5biAUC0E"
      },
      "source": [
        "> ## Predicting the entire dataset"
      ]
    },
    {
      "cell_type": "code",
      "metadata": {
        "id": "lPdu3Je_Tqey"
      },
      "source": [
        "y_pred = log_reg.predict(X_test)"
      ],
      "execution_count": 20,
      "outputs": []
    },
    {
      "cell_type": "markdown",
      "metadata": {
        "id": "ofahSzpWURIn"
      },
      "source": [
        "> ## Determining the accuracy of the model"
      ]
    },
    {
      "cell_type": "code",
      "metadata": {
        "colab": {
          "base_uri": "https://localhost:8080/"
        },
        "id": "QGtbnUntUQW6",
        "outputId": "ad0a2b0f-cf8b-4e46-c8e9-8e77806a2d2d"
      },
      "source": [
        "score = log_reg.score(X_test, y_test)\n",
        "print(score)"
      ],
      "execution_count": 21,
      "outputs": [
        {
          "output_type": "stream",
          "text": [
            "0.9516908212560387\n"
          ],
          "name": "stdout"
        }
      ]
    },
    {
      "cell_type": "markdown",
      "metadata": {
        "id": "KtT7LdivUint"
      },
      "source": [
        "> ## Representing the confusion matrix in a heat map"
      ]
    },
    {
      "cell_type": "code",
      "metadata": {
        "colab": {
          "base_uri": "https://localhost:8080/",
          "height": 530
        },
        "id": "qqGzRdoCUg9p",
        "outputId": "a43b2ebe-9cab-4748-87df-8b7354a5505e"
      },
      "source": [
        "import seaborn as sns\n",
        "from sklearn.metrics import confusion_matrix\n",
        "plt.figure(figsize=(9, 9))\n",
        "sns.heatmap(confusion_matrix(y_test, y_pred), annot=True, fmt='.3f', linewidth=0.5, square=True, cmap='Blues_r')\n",
        "plt.ylabel('Actual label')\n",
        "plt.xlabel('Predicted label')\n",
        "all_sample_title = f'Accuracy Score: {score}'\n",
        "plt.title(all_sample_title, size=15);"
      ],
      "execution_count": 24,
      "outputs": [
        {
          "output_type": "display_data",
          "data": {
            "image/png": "[encoded data removed]",
            "text/plain": [
              "<Figure size 648x648 with 2 Axes>"
            ]
          },
          "metadata": {
            "tags": [],
            "needs_background": "light"
          }
        }
      ]
    },
    {
      "cell_type": "markdown",
      "metadata": {
        "id": "Nea-_sBycAa1"
      },
      "source": [
        "> ## Displaying some of correctly predicted labels"
      ]
    },
    {
      "cell_type": "code",
      "metadata": {
        "colab": {
          "base_uri": "https://localhost:8080/",
          "height": 232
        },
        "id": "z3aRXzfnVeza",
        "outputId": "b520201a-ae6c-455a-ac12-8e10006785e1"
      },
      "source": [
        "index = 0\n",
        "classifiedIndex = []\n",
        "for predict, actual in zip(y_pred, y_test):\n",
        "    if predict == actual:\n",
        "        classifiedIndex.append(index)\n",
        "    index += 1\n",
        "\n",
        "plt.figure(figsize=(20, 3))\n",
        "for plotIndex, correct in enumerate(classifiedIndex[0:4]):\n",
        "    plt.subplot(1, 4, plotIndex + 1)\n",
        "    plt.imshow(np.reshape(X_test[correct], (8, 8)), cmap=plt.cm.gray)\n",
        "    plt.title(f'Predicted: {y_pred[correct]}, Actual: {y_test[correct]}', fontsize=20)"
      ],
      "execution_count": 29,
      "outputs": [
        {
          "output_type": "display_data",
          "data": {
            "image/png": "[encoded data removed]",
            "text/plain": [
              "<Figure size 1440x216 with 4 Axes>"
            ]
          },
          "metadata": {
            "tags": [],
            "needs_background": "light"
          }
        }
      ]
    },
    {
      "cell_type": "markdown",
      "metadata": {
        "id": "30RYBCPXcMUK"
      },
      "source": [
        "> ## Displaying some of incorrectly predicted labels"
      ]
    },
    {
      "cell_type": "code",
      "metadata": {
        "colab": {
          "base_uri": "https://localhost:8080/",
          "height": 232
        },
        "id": "_wBsXrlgTUgQ",
        "outputId": "9b4bd91c-6217-49a5-bd7b-020f20ac77ac"
      },
      "source": [
        "index = 0\n",
        "misclassifiedIndex = []\n",
        "for predict, actual in zip(y_pred, y_test):\n",
        "    if predict != actual:\n",
        "        misclassifiedIndex.append(index)\n",
        "    index += 1\n",
        "\n",
        "plt.figure(figsize=(20, 3))\n",
        "for plotIndex, wrong in enumerate(misclassifiedIndex[0:4]):\n",
        "    plt.subplot(1, 4, plotIndex + 1)\n",
        "    plt.imshow(np.reshape(X_test[wrong], (8, 8)), cmap=plt.cm.gray)\n",
        "    plt.title(f'Predicted: {y_pred[wrong]}, Actual: {y_test[wrong]}', fontsize=20)"
      ],
      "execution_count": 30,
      "outputs": [
        {
          "output_type": "display_data",
          "data": {
            "image/png": "[encoded data removed]",
            "text/plain": [
              "<Figure size 1440x216 with 4 Axes>"
            ]
          },
          "metadata": {
            "tags": [],
            "needs_background": "light"
          }
        }
      ]
    },
    {
      "cell_type": "code",
      "metadata": {
        "id": "Lr4M8cSHMVa-"
      },
      "source": [
        ""
      ],
      "execution_count": null,
      "outputs": []
    }
  ]
}